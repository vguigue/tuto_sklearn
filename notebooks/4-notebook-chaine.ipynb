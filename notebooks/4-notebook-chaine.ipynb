{
 "cells": [
  {
   "cell_type": "markdown",
   "metadata": {},
   "source": [
    "# Chaine de traitements\n",
    "\n",
    "Une chaine de traitements est composée de différents maillons\n",
    "\n",
    "<img src=\"fig/chaine2.png\">\n",
    "\n",
    "> L'impact des pré-traitements sur la performance finale est souvent très important\n",
    "\n",
    "Nous allons donc étudier les pré-traitement les plus classiques et la manière de les implémenter proprement"
   ]
  },
  {
   "cell_type": "code",
   "execution_count": null,
   "metadata": {},
   "outputs": [],
   "source": [
    "import numpy as np\n",
    "import pandas as pd\n",
    "import matplotlib.pyplot as plt\n",
    "from outils.frontiere import *\n",
    "from sklearn import svm\n",
    "from sklearn.metrics import accuracy_score\n",
    "from sklearn.datasets import make_blobs\n",
    "from sklearn.model_selection import train_test_split\n",
    "\n",
    "%load_ext autoreload\n",
    "%autoreload 2"
   ]
  },
  {
   "cell_type": "markdown",
   "metadata": {},
   "source": [
    "# A. Transformation des variables de description\n",
    "\n",
    "Les données brutes sont souvent incomplètes et bruitées, parfois trop spécifiques etc...\n",
    "L'exploitation de ces informations requière leur transformation."
   ]
  },
  {
   "cell_type": "markdown",
   "metadata": {},
   "source": [
    "\n",
    "## A.1. Enrichissement et transformation des données\n",
    "\n",
    "### A.1.1. Encodage des variables discrètes\n",
    "\n",
    "Les variables descriptives sont souvent discrètes... Or les approches de machine learning ne savent pas gérer ces informations là (sauf certains arbres).\n",
    "\n",
    "1. Charger des données discrètes   \n",
    "    * prédiction de récidive de cancer\n",
    "2. Afficher les 3 premières lignes (et bien comprendre qu'on a un problème par rapport aux données manipulées jusqu'ici)\n",
    "3. Transformer les données"
   ]
  },
  {
   "cell_type": "code",
   "execution_count": null,
   "metadata": {},
   "outputs": [],
   "source": [
    "# récupération de données discrètes\n",
    "import pandas as pd\n",
    "\n",
    "filename = \"data/breast-cancer.csv\"\n",
    "data = pd.read_csv(filename, header=None).values\n",
    "\n",
    "Xbrut = data[:,:-1]\n",
    "Ybrut = data[:,-1:]\n",
    "\n",
    "print(Xbrut[:3,:], Ybrut[:3])"
   ]
  },
  {
   "cell_type": "code",
   "execution_count": null,
   "metadata": {},
   "outputs": [],
   "source": [
    "# transformation des données\n",
    "from sklearn.preprocessing import OneHotEncoder\n",
    "\n",
    "enc = OneHotEncoder(handle_unknown='ignore', sparse=False)\n",
    "enc.fit(Xbrut)\n",
    "\n",
    "print(\"Catégories: \\n\",enc.categories_)\n",
    "X = enc.transform(Xbrut) # transformation des X\n",
    "\n",
    "enc2 = OneHotEncoder(handle_unknown='ignore', sparse=False)\n",
    "Y = enc2.fit_transform(Ybrut)[:,0] # même opération (tout en une ligne) pour les Y\n",
    "\n",
    "print(\"Echantillon: \\n\",X[:3,:], Y[:3])\n",
    "\n",
    "print(\"Comparaison des dimensions: \\n\",Xbrut.shape, X.shape)"
   ]
  },
  {
   "cell_type": "code",
   "execution_count": null,
   "metadata": {},
   "outputs": [],
   "source": [
    "# Analyse et performances\n",
    "\n",
    "from sklearn.model_selection import cross_val_score\n",
    "from sklearn.svm import SVC\n",
    "from sklearn.metrics import accuracy_score\n",
    "\n",
    "# définition du modèle\n",
    "mod = SVC(kernel=\"linear\")\n",
    "n_fold = 5\n",
    "scores = cross_val_score(mod, X, Y, cv=n_fold, scoring='accuracy') # tout est caché dedans :)\n",
    "print(scores)\n"
   ]
  },
  {
   "cell_type": "code",
   "execution_count": null,
   "metadata": {},
   "outputs": [],
   "source": [
    "# On sait maintenant qu'il faut se méfier de l'accuracy dans les cas déséquilibré...\n",
    "# vérification sur la balance des étiquettes \n",
    "print(np.histogram(Y,2))\n",
    "\n",
    "# calcul du score f1\n",
    "scores = cross_val_score(mod, X, Y, cv=n_fold, scoring='f1') # tout est caché dedans :)\n",
    "print(scores) # ça va"
   ]
  },
  {
   "cell_type": "markdown",
   "metadata": {},
   "source": [
    "### A.1.2 Création de nouvelles variables\n",
    "\n",
    "Sur l'exemples de l'échiquier, si on ajoute un descripteur qui change de valeur sur le modulo 2 de la coordonnées des points... Le problème devient séparable linéairement"
   ]
  },
  {
   "cell_type": "code",
   "execution_count": null,
   "metadata": {},
   "outputs": [],
   "source": [
    "# Génération des données\n",
    "centers = [[float(i),float(j)] for i in range(5) for j in range(5)]\n",
    "print(centers)\n",
    "clusters_std = 0.2\n",
    "X, y = make_blobs(n_samples=100, centers=centers, cluster_std=clusters_std,  n_features=2,   random_state=0)\n",
    "y = (y % 2)*2 - 1 # chaque centre = 1 classe => Echiquier binaire\n",
    "\n",
    "print(X.shape)\n",
    "plt.figure()\n",
    "plt.scatter(X[:,0], X[:,1], c=y)"
   ]
  },
  {
   "cell_type": "code",
   "execution_count": null,
   "metadata": {},
   "outputs": [],
   "source": [
    "# Construction d'un classifieur linéaire\n",
    "\n",
    "mod = svm.SVC(kernel=\"linear\")\n",
    "mod.fit(X,y)\n",
    "\n",
    "plt.figure()\n",
    "plot_frontiere(X,y,mod)\n",
    "plt.scatter(X[:,0],X[:,1],c=y)\n",
    "\n",
    "# plt.savefig(\"fig/checkers.pdf\")\n",
    "\n",
    "sc = cross_val_score(mod,X,y)\n",
    "print(\"Scores : \", sc)\n",
    "\n",
    "# => Les données ne sont pas séparable linéairemnet !"
   ]
  },
  {
   "cell_type": "code",
   "execution_count": null,
   "metadata": {},
   "outputs": [],
   "source": [
    "# ajout de variables (très utiles)\n",
    "\n",
    "Xi = np.reshape([(np.floor(i)%2)*2-1 for i in X[:,0]+0.5], (-1,1))\n",
    "Xj = np.reshape([(np.floor(i)%2)*2-1 for i in X[:,1]+0.5], (-1,1))\n",
    "\n",
    "Xe = np.concatenate((X,Xi,Xj), axis = 1)\n",
    "\n",
    "plt.figure()\n",
    "plt.imshow(Xe[:12,:])\n",
    "# plt.savefig(\"fig/checkers_Xe.pdf\")\n",
    "\n",
    "sc = cross_val_score(mod,Xe,y)\n",
    "print(\"Scores : \", sc)"
   ]
  },
  {
   "cell_type": "markdown",
   "metadata": {},
   "source": [
    "### A.1.3 Discrétisation de variables continues\n",
    "\n",
    "Il est parfois difficile de tirer parti des informations continues et plus simple de créer des variables encodant directement l'appartenance à un segment.\n",
    "\n",
    "e.g. : données étalées entre 1 et 10, avec:\n",
    "* un peu de points uniformément répartis entre 1 et 5\n",
    "* beaucoup de points centrés en 7.5 avec une faible dispersion\n",
    "* beaucoup de points centrés en 9 avec une faible dispersion\n",
    "\n",
    "$\\Rightarrow$ ce type de distribution destabilise les approches de ML\n",
    "\n",
    "1. La fonction qui permet de faire ça est: `KBinsDiscretizer`\n",
    "2. Génerer des données et tester cette fonction\n",
    "3. [OPT] Réfléchir au pont entre modèle linéaire et arbres"
   ]
  },
  {
   "cell_type": "code",
   "execution_count": null,
   "metadata": {},
   "outputs": [],
   "source": [
    "from sklearn.preprocessing import KBinsDiscretizer\n",
    "\n",
    "# générer des données 1D \n",
    "\n",
    "# tester la fonction et afficher la matrice créée"
   ]
  },
  {
   "cell_type": "markdown",
   "metadata": {},
   "source": [
    "## A.2. Normalisation des données (par colonne)\n",
    "\n",
    "Soit des données tabulaires classiques:\n",
    "$$X = \\begin{pmatrix}  x_{11}& x_{12} &  \\ldots & x_{1d}  \\\\\n",
    "x_{21}& x_{22} & \\ldots & x_{2d} \\\\\n",
    "\\vdots& \\vdots & \\ddots &\\vdots \\\\\n",
    "x_{n1}& x_{n2} & \\ldots & x_{nd}  \\\\\n",
    "\\end{pmatrix} ,\\qquad\n",
    "Y = \\begin{pmatrix}  y_{1} \\\\\n",
    "y_{2}\\\\\n",
    "\\vdots\\\\\n",
    "y_{n} \\\\\n",
    "\\end{pmatrix} ,\\qquad y_i\\in \\mathcal Y\n",
    "$$\n",
    "\n",
    "Dans la plupart des cas, le problème vient des $X_j$ :\n",
    "\n",
    "* qui ne sont pas codés dans les mêmes échelles. e.g. colonne $i$ en $10^{-5}$, colonne $j$ en $10^{-9}$ \n",
    "* qui ont simplement un biais trop important, e.g. valeur entre $1050$ et $1070$\n",
    "\n",
    "Les algorithmes de ML sont souvent destabilités par ces écarts de valeur. Il faut normaliser pour obtenir de bonnes performances\n",
    "\n",
    "On utilise presque tout le temps une normlisation standard gaussienne consistant à centrer réduire les $X_j \\Rightarrow \\tilde{X}_j \\sim \\mathcal N(0,1)$.\n",
    "\n",
    "https://scikit-learn.org/stable/modules/generated/sklearn.preprocessing.StandardScaler.html#sklearn.preprocessing.StandardScaler"
   ]
  },
  {
   "cell_type": "code",
   "execution_count": null,
   "metadata": {},
   "outputs": [],
   "source": [
    "import pandas as pd\n",
    "\n",
    "filename = \"data/winequality-red.csv\"\n",
    "data = pd.read_csv(filename)\n",
    "\n",
    "data.head(10)"
   ]
  },
  {
   "cell_type": "code",
   "execution_count": null,
   "metadata": {},
   "outputs": [],
   "source": [
    "# Comparaison des performances avec et sans normalisation\n",
    "from sklearn.svm import SVC\n",
    "from sklearn.preprocessing import StandardScaler\n",
    "\n",
    "X = data.values[:,:-1]\n",
    "Y = data.values[:,-1]\n",
    "# remise en forme des Y entre 0 et nClasses\n",
    "val = np.unique(Y)\n",
    "transf = dict(zip(val,np.arange(len(val)))) # mapping [x,y,z] => [0,1,2]\n",
    "Y = np.vectorize(transf.get)(Y)             # application de la transformation\n",
    "\n",
    "mod = SVC()\n",
    "sc = cross_val_score( mod, X, Y, scoring='accuracy')\n",
    "\n",
    "print(\"Scores \",sc,sc.mean())\n",
    "\n",
    "# normalisation des données\n",
    "scal = StandardScaler()\n",
    "\n",
    "# 1. Appliquer la transformation (cf doc)\n",
    "\n",
    "# 2. Calculer la performance\n",
    "\n",
    "###  TODO  ###\n",
    "\n",
    "print(\"Scores sur données normalisées \",sc,sc.mean())\n"
   ]
  },
  {
   "cell_type": "markdown",
   "metadata": {},
   "source": [
    "**Question d'ouverture**\n",
    "\n",
    "L'impact de la normalisation est-il le même sur tous les classifieurs?\n",
    "\n",
    "Non, évidemment"
   ]
  },
  {
   "cell_type": "code",
   "execution_count": null,
   "metadata": {},
   "outputs": [],
   "source": [
    "import xgboost as xgb # !pip install xgboost # en cas de besoin\n",
    "\n",
    "bst = xgb.XGBClassifier()\n",
    "sc = cross_val_score( bst, X, Y, scoring='accuracy')\n",
    "print(\"xgboost : \",sc, sc.mean())\n",
    "\n",
    "sc = cross_val_score( bst, Xn, Y, scoring='accuracy')\n",
    "print(\"xgboost (normalisé): \",sc, sc.mean())"
   ]
  },
  {
   "cell_type": "markdown",
   "metadata": {},
   "source": [
    "## A.3. Normalisation par individu\n",
    "\n",
    "Sur certaines applications spécifiques comme la classification de signaux ou les données textuelles, on normalise les individus afin de les rendre comparables\n",
    "\n",
    "* par défaut, un texte de 100 mots n'est pas comparable avec un texte de 1000 mots\n",
    "* les log à la station chatelet dans une journée de semaine ne sont pas comparables avec un week-end\n",
    "\n",
    "Les deux normalisations les plus connues (et utilisées) sont:\n",
    "\n",
    "1. La normalisation probabiliste (les variables de l'individu somme à 1), on fait une hypothèse multinomiale sur les variables\n",
    "    * pour le texte notamment\n",
    "1. La normalisation min-max => 0-1\n",
    "    * souvent pour les signaux\n",
    "    * Evidemment, en fonction de l'application visée, ça peut être utile ou au contraire néfaste"
   ]
  },
  {
   "cell_type": "code",
   "execution_count": null,
   "metadata": {},
   "outputs": [],
   "source": [
    "import pandas as pd\n",
    "\n",
    "filename = \"data/Beef_TRAIN.tsv\"\n",
    "data = pd.read_csv(filename, header=None, sep='\\t')\n",
    "\n",
    "print(np.unique(data.values[:,0], return_counts=True))\n",
    "\n",
    "data.head(10)\n"
   ]
  },
  {
   "cell_type": "code",
   "execution_count": null,
   "metadata": {},
   "outputs": [],
   "source": [
    "from sklearn.preprocessing import MinMaxScaler\n",
    "X = data.values[:,1:]\n",
    "Y = data.values[:,0]\n",
    "# remise en forme des Y entre 0 et nClasses\n",
    "val = np.unique(Y)\n",
    "transf = dict(zip(val,np.arange(len(val)))) # mapping [x,y,z] => [0,1,2]\n",
    "Y = np.vectorize(transf.get)(Y)             # application de la transformation\n",
    "\n",
    "mod = SVC()\n",
    "sc = cross_val_score( mod, X, Y, scoring='accuracy')\n",
    "\n",
    "print(\"Scores \",sc,sc.mean())\n",
    "\n",
    "# normalisation des données\n",
    "scal = MinMaxScaler()\n",
    "#scal = StandardScaler() # vous pouvez switcher pour voir...\n",
    "Xn = scal.fit_transform(X)\n",
    "sc = cross_val_score( mod, Xn, Y, scoring='accuracy')\n",
    "\n",
    "print(\"Scores sur données normalisées \",sc,sc.mean())\n"
   ]
  },
  {
   "cell_type": "markdown",
   "metadata": {},
   "source": [
    "# B. Etude approfondie du cas Auto-mpg\n",
    "\n",
    "Effectuer le même genre d'opération sur le jeu de données UCI Auto MPG, consistant à prédire la consommation (MPG) d'un ensemble de voitures.\n",
    "\n",
    "https://archive.ics.uci.edu/ml/datasets/auto+mpg\n",
    "\n",
    "1. Tester un régresseur de base sur le sous-ensemble de colonnes correspondant à des données numériques \n",
    "2. Encoder les colonnes catégorielles et comparer la performance\n",
    "3. Que penser des colonnes de date et de cylindrée?\n",
    "    * Tester leur prise en compte numérique *vs* leur prise en compte catégorielle\n",
    "4. La dernière colonne est séparable en plusieurs (marque, modèle)\n",
    "    * Quel impact sur les performances\n",
    "5. Imaginer d'autres manières de prendre en compte les valeurs manquantes\n",
    "\n"
   ]
  },
  {
   "cell_type": "code",
   "execution_count": null,
   "metadata": {},
   "outputs": [],
   "source": [
    "# Chargement des données (1/2)\n",
    "\n",
    "filename = \"data/auto-mpg.csv\"\n",
    "data = pd.read_csv(filename)\n",
    "X = data.values[:,1:]\n",
    "Y = data.values[:,0]\n",
    "\n",
    "# la colonne 2 contient des données manquantes (?)... Et elle est encodée en chaine de caractères...\n",
    "data.loc[30:40, :] # equiv. dans pandas de: print(X[30:40])\n",
    "\n",
    "# alternative : data.head(50)"
   ]
  },
  {
   "cell_type": "markdown",
   "metadata": {},
   "source": [
    "## B.1. La gestion des données manquantes\n",
    "\n",
    "De nombreux jeux de données présentent des données manquantes, souvent dans une ou deux colonnes et sur quelques lignes. La question de savoir comment traiter ce cas de figure occupe beaucoup la communauté.\n",
    "\n",
    "1. Du point de vue théorique, ça relève de l'algorithme EM pour l'estimation de valeur manquante\n",
    "2. Du point de vue très opérationnel, on peut:\n",
    "    * supprimer les lignes affectées\n",
    "    * affecter la valeur moyenne de la colonne aux cases manquantes (cf case ci-dessous)\n",
    "3. D'autres stratégies assez simples sont disponibles dans sk-learn"
   ]
  },
  {
   "cell_type": "code",
   "execution_count": null,
   "metadata": {},
   "outputs": [],
   "source": [
    "# Chargement des données (2/2)\n",
    "\n",
    "# On propose de les remplacer par la valeur moyenne de la colonne [A LA MAIN]\n",
    "# 1. On remplace par des 0\n",
    "X[:,2] = [0 if X[i,2] == '?' else int(X[i,2]) for i in range (len(X))]\n",
    "# 2. On remplace par la moyenne\n",
    "m = np.round(X[:,2].sum()/np.where(X[:,2]>0, 1, 0).sum()) # 104\n",
    "X[:,2] = np.where(X[:,2]==0, m, X[:,2])\n",
    "\n",
    "print(X[30:40])"
   ]
  },
  {
   "cell_type": "markdown",
   "metadata": {},
   "source": [
    "Stratégies alternatives **à maitriser** :\n",
    "\n",
    "https://scikit-learn.org/stable/modules/classes.html#module-sklearn.impute"
   ]
  },
  {
   "cell_type": "code",
   "execution_count": null,
   "metadata": {},
   "outputs": [],
   "source": [
    "# application directe de la fonction:\n",
    "\n",
    "from sklearn.impute import SimpleImputer\n",
    "\n",
    "X = data.values[:,1:]\n",
    "Y = data.values[:,0]\n",
    "\n",
    "imp_mean = SimpleImputer(missing_values='?', strategy='mean') # attention, fonction par robuste aux str\n",
    "Xnum = imp_mean.fit_transform(X)\n",
    "\n",
    "# que se passe-t-il?"
   ]
  },
  {
   "cell_type": "code",
   "execution_count": null,
   "metadata": {},
   "outputs": [],
   "source": [
    "# Version corrigée: il faut passer les données en numérique\n",
    "from sklearn.impute import SimpleImputer\n",
    "\n",
    "Xnum = data.values[:,1:7] # récupération des données avec cases manquantes\n",
    "# 1. On remplace les ? par des np.nan + transformation numérique\n",
    "Xnum[:,2] = [np.nan if Xnum[i,2] == '?' else int(X[i,2]) for i in range (len(Xnum))]\n",
    "# 2. On utilise un outil sklearn\n",
    "imp_mean = SimpleImputer(missing_values=np.nan, strategy='mean') # attention, fonction par robuste aux str\n",
    "Xnum = imp_mean.fit_transform(Xnum)\n",
    "\n",
    "print(Xnum[30:40])"
   ]
  },
  {
   "cell_type": "markdown",
   "metadata": {},
   "source": [
    "## B.2. Analyse du contenu \n",
    "\n",
    "Nous nous intéressons d'abord à la dernière colonne qui est problématique (car non numérique)... Puis à toutes les autres colonnes"
   ]
  },
  {
   "cell_type": "code",
   "execution_count": null,
   "metadata": {},
   "outputs": [],
   "source": [
    "# analyse de la dernière colonne:\n",
    "print(\"Combien de valeurs uniques:\", len(np.unique(X[:,-1])), \"(nb val=\",len(X),\")\")\n"
   ]
  },
  {
   "cell_type": "code",
   "execution_count": null,
   "metadata": {},
   "outputs": [],
   "source": [
    "#Il faut sans doute se limiter à la marque:\n",
    "# remplacer le nom complet du modèle par la marque seule (cette information peut avoir de la valeur pour estimer la consommation)\n",
    "\n",
    "###  TODO  ###\n"
   ]
  },
  {
   "cell_type": "code",
   "execution_count": null,
   "metadata": {},
   "outputs": [],
   "source": [
    "\n",
    "# Analyse des colonnes (histogramme)\n",
    "plt.figure(figsize=[5*X.shape[1],5])\n",
    "for i in range(X.shape[1]):\n",
    "    plt.subplot(1,X.shape[1],i+1)\n",
    "    # plt.figure()\n",
    "    if i<X.shape[1]-1: # colonne numériques\n",
    "        nbins = np.minimum(len(np.unique(X[:,i])), 12) # extraction des colonnes à valeurs discrètes\n",
    "        [e,x] = np.histogram(X[:,i], nbins)\n",
    "        x[-1] += 0.001\n",
    "        conso = [Y[np.logical_and(X[:,i]>=x[j], X[:,i]<x[j+1])].mean() for j in range(len(e))]\n",
    "        # print(e,x)\n",
    "        plt.bar(np.arange(len(e)),e)\n",
    "        plt.bar(np.arange(len(e)),conso, alpha=0.5)\n",
    "        plt.title('Colonne '+str(i))\n",
    "    else: # colonnes textuelles\n",
    "        val,e = np.unique(X[:,-1], return_counts=True)\n",
    "        plt.bar(np.arange(len(e)),e)\n",
    "        conso = [Y[X[:,-1] == v].mean() for v in val]\n",
    "        plt.bar(np.arange(len(e)),conso, alpha=0.5)\n",
    "        plt.title('Colonne '+str(i))\n",
    "\n",
    "#plt.savefig('fig/auto-mpg-all.png')\n",
    "plt.show()\n"
   ]
  },
  {
   "cell_type": "markdown",
   "metadata": {},
   "source": [
    "## B.3. Performances de base puis enrichissement des données\n",
    "\n",
    "On calcule d'abord une performance sur les données numériques faciles à exploiter... Puis on va enrichir la représentation"
   ]
  },
  {
   "cell_type": "code",
   "execution_count": null,
   "metadata": {},
   "outputs": [],
   "source": [
    "from sklearn.linear_model import Ridge\n",
    "from sklearn.model_selection import cross_val_score\n",
    "from sklearn.metrics import mean_squared_error, make_scorer\n",
    "\n",
    "# Construction d'un modèle de référence sur les colonnes numériques\n",
    "Xr = Xnum[:,1:6]\n",
    "mod = Ridge()\n",
    "\n",
    "sc = cross_val_score( mod, Xr, Y, scoring='neg_mean_absolute_percentage_error')\n",
    "\n",
    "print(\"modèle de référence : \",sc, sc.mean())\n",
    "\n",
    "print(Xr.shape)\n",
    "\n"
   ]
  },
  {
   "cell_type": "code",
   "execution_count": null,
   "metadata": {},
   "outputs": [],
   "source": [
    "# Transfromation des données et Amélioration (?) des résultats\n",
    "\n",
    "enc = OneHotEncoder(handle_unknown='ignore', sparse=False) # aller voir la document (ou ex plus haut)\n",
    "\n",
    "for col  in [0,5,6,7]: # pour chacune de ces colonnes discrètes, \n",
    "    # Construire la matrice Xtmp one-hot des occurences de variables discrètes\n",
    "    # Concaténer Xtmp avec Xr\n",
    "    ###  TODO  ###\n"
   ]
  },
  {
   "cell_type": "markdown",
   "metadata": {},
   "source": [
    "\n",
    "## B.4. Histogramme de valeurs\n",
    "\n",
    "Il est parfois intéressant de convertir une variable continue en un histogramme de valeurs. Sur la colonne 1 des données, on avait l'impression qu'il y avait des comportements un peu similaire par groupe de valeurs... On a donc ajouté des catégories."
   ]
  },
  {
   "cell_type": "code",
   "execution_count": null,
   "metadata": {},
   "outputs": [],
   "source": [
    "# Transformation de la caractéristique 5 (Année)\n",
    "from sklearn.preprocessing import KBinsDiscretizer\n",
    "\n",
    "dim = 1 # dimension à encoder\n",
    "#print(X[:10,dim])\n",
    "enc = KBinsDiscretizer(n_bins=4, encode='onehot', strategy='uniform') # comprendre la signification des arguments\n",
    "Xtmp = enc.fit_transform(X[:,dim].reshape(-1,1)).toarray()\n",
    "#print(Xtmp[:10,:])\n",
    "Xr = np.concatenate((Xr, Xtmp), axis = 1)\n",
    "sc = cross_val_score( mod, Xr, Y, scoring='neg_mean_absolute_percentage_error')\n",
    "print(Xtmp.shape)\n",
    "print(\"modèle de référence : \",sc, sc.mean())\n"
   ]
  },
  {
   "cell_type": "markdown",
   "metadata": {},
   "source": [
    "## B.5. Transformations arbitraires\n",
    "\n",
    "Enrichir les données construisant une colonne binaire qui vaut 1 pour les voitures de 4 cylindres de moins de 2500 en masse"
   ]
  },
  {
   "cell_type": "code",
   "execution_count": null,
   "metadata": {},
   "outputs": [],
   "source": [
    "# créer une colonne biaire qui recense les petites voitures (masse<2500) de 4 cylindres\n",
    "\n",
    "Xtmp = np.where(np.logical_and(X[:,0]==4, X[:,4]<2500), 1, 0).reshape(-1,1)\n",
    "Xr = np.concatenate((Xr, Xtmp), axis = 1)\n",
    "sc = cross_val_score( mod, Xr, Y, scoring='neg_mean_absolute_percentage_error')\n",
    "print(Xtmp.shape)\n",
    "print(\"modèle de référence : \",sc, sc.mean())"
   ]
  },
  {
   "cell_type": "markdown",
   "metadata": {},
   "source": [
    "\n",
    "## B.6. Passage à un modèle de l'état de l'art\n",
    "\n",
    "Est ce que les variables construites ont du sens pour un modèle non-linéaire de type XGBoost?\n"
   ]
  },
  {
   "cell_type": "code",
   "execution_count": null,
   "metadata": {},
   "outputs": [],
   "source": [
    "# Passage à un modèle de l'état de l'art\n",
    "\n",
    "# XGboost\n",
    "\n",
    "import xgboost as xgb # !pip install xgboost # en cas de besoin\n",
    "\n",
    "bst = xgb.XGBRegressor()\n",
    "sc = cross_val_score( bst, Xr, Y, scoring='neg_mean_absolute_percentage_error')\n",
    "print(\"xgboost : \",sc, sc.mean())\n",
    "\n",
    "sc = cross_val_score( bst, X[:,:6], Y, scoring='neg_mean_absolute_percentage_error')\n",
    "print(\"xgboost (X origine): \",sc, sc.mean())"
   ]
  },
  {
   "cell_type": "markdown",
   "metadata": {},
   "source": [
    "# C. Construction d'une chaine de traitements en scikit-learn\n",
    "\n",
    "## C.1. Cas d'usage: sélection de caractéristique\n",
    "\n",
    "1. Construire des données bruitées\n",
    "2. Construire un sélecteur de variables pertinentes \n",
    "    * Afin de prolonger le TP précedent, on choisit de construire un sélecteur basé sur la corrélation... En utilisant l'héritage pour une parfaite intégration dans la chaine\n",
    "3. L'intégrer dans la chaine (`Pipeline`)\n",
    "4. Vérifier:\n",
    "    * que la chaine est apprenable\n",
    "    * évaluable\n",
    "    * que les éléments de la chaine ont des dimensions raisonnables"
   ]
  },
  {
   "cell_type": "code",
   "execution_count": null,
   "metadata": {},
   "outputs": [],
   "source": [
    "# données + dimensions inutiles\n",
    "centers = [[-2.0, -2.0], [2.0, 2.0]]\n",
    "clusters_std = [1.5, 1.5]\n",
    "X, y = make_blobs(n_samples=100, centers=centers, cluster_std=clusters_std,  n_features=2,   random_state=0) # 100 pts, 2classes, 2dim \n",
    "\n",
    "# ajout de bruit\n",
    "ndim_noise = 20\n",
    "Noise = np.random.randn(len(X), ndim_noise)*clusters_std[0]\n",
    "Xn = np.concatenate((X,Noise), axis=1)\n",
    "\n",
    "# split\n",
    "X_train, X_test, y_train, y_test = train_test_split(Xn, y, test_size=0.33, random_state=0)"
   ]
  },
  {
   "cell_type": "code",
   "execution_count": null,
   "metadata": {},
   "outputs": [],
   "source": [
    "# Construction d'un estimateur sklearn calculant la corrélation des différentes features avec la cible\n",
    "# => fit ne fait rien\n",
    "# => score renvoie la somme des correlations des variables retenues\n",
    "from sklearn.base import BaseEstimator\n",
    "\n",
    "class Correl(BaseEstimator):\n",
    "    def fit(self,X,y):\n",
    "        return self\n",
    "    def score(self,X,y):\n",
    "        return np.sum(X.T@y)"
   ]
  },
  {
   "cell_type": "code",
   "execution_count": null,
   "metadata": {},
   "outputs": [],
   "source": [
    "# Selection de caractéristiques\n",
    "from sklearn.feature_selection import SequentialFeatureSelector\n",
    "\n",
    "estimator = Correl()\n",
    "selector = SequentialFeatureSelector(estimator, n_features_to_select=4) # j'utilise mon outil dans le selecteur sklearn\n",
    "selector = selector.fit(X_train, y_train)\n",
    "\n",
    "print(selector.get_support())\n",
    "\n",
    "# il est ensuite possible de filtrer les données:\n",
    "Xnew = selector.transform(X_train)"
   ]
  },
  {
   "cell_type": "code",
   "execution_count": null,
   "metadata": {},
   "outputs": [],
   "source": [
    "# Construction de la chaine (pipeline)\n",
    "from sklearn.pipeline import Pipeline\n",
    "classif = svm.SVC(kernel = 'linear')\n",
    "# liste de tuples: titre + objet \n",
    "pipe = Pipeline([('sel. var',selector),('classif',classif)])\n"
   ]
  },
  {
   "cell_type": "code",
   "execution_count": null,
   "metadata": {},
   "outputs": [],
   "source": [
    "\n",
    "# Vérification de l'usage et des propriétés du nouvel objet\n",
    "pipe.fit(X_train,y_train)           # 1. Apprentissage\n",
    "yhat = pipe.predict(X_test)         # 2. inférence\n",
    "tx = accuracy_score(yhat, y_test)   # 3. Evaluation (même si pipe n'entre pas directement en jeu)\n",
    "\n",
    "print(\"taux de bonne classif: \", tx)"
   ]
  },
  {
   "cell_type": "code",
   "execution_count": null,
   "metadata": {},
   "outputs": [],
   "source": [
    "# Vérification des dimensions du classifieur\n",
    "print(\"Dimension du classifieur: \", classif.coef_.shape)"
   ]
  },
  {
   "cell_type": "markdown",
   "metadata": {},
   "source": [
    "## C.2. Même exercice avec une PCA & un arbre de décision\n",
    "\n",
    "**Exercice :** Construire une chaine composée de \n",
    "* Une projection PCA sur 3 axes \n",
    "* Un arbre de décision\n",
    "* Calculer la performance de cette chaine et afficher l'arbre"
   ]
  },
  {
   "cell_type": "code",
   "execution_count": null,
   "metadata": {},
   "outputs": [],
   "source": [
    "from sklearn.decomposition import PCA\n",
    "from sklearn.tree import DecisionTreeClassifier,plot_tree\n",
    "\n",
    "###  TODO  ###"
   ]
  },
  {
   "cell_type": "markdown",
   "metadata": {},
   "source": [
    "## C.3. Optimisation de la chaine de traitements\n",
    "\n",
    "La construction n'est pas une fin en soi: l'idée est de pouvoir optimiser la chaine à la fois au niveau des paramètres de pré-traitements et des hyper-paramètres.\n",
    "\n",
    "On veut tester les options suivantes (en combinaison):\n",
    "* Sélection de 2 à 5 variables (avec le sélecteur simple à base de correlation)\n",
    "* SVM\n",
    "    * noyau linéaire\n",
    "    * noyau gaussien avec `gamma = [0.1, 0.5, 1, 2, 5]`\n",
    "    * compromis de régularisation : `C = [0.1,1,5,10,100]`\n",
    "\n",
    "1. Construire la chaine de traitement\n",
    "2. Utiliser le `grid_search` vu dans le TP 1 pour optimiser l'ensemble\n",
    "    * Dans un premier temps, mettre tous les paramètres *en vrac* <BR>\n",
    "    https://scikit-learn.org/stable/tutorial/statistical_inference/putting_together.html\n",
    "    * Dans un second temps, essayer de ne pas calculer les combinaisons absurdes (tester toutes les valeurs de gamma pour un noyau linéaire) <BR>\n",
    "    Il faut faire des sous-dictionnaires\n",
    "\n",
    "3. Expliquer quelle chaine est retenue et à quel niveau de performances attendu\n",
    "\n",
    "> A votre avis, êtes-vous dans dans un cadre APP/TEST ou dans un cadre APP/VAL/TEST?\n"
   ]
  },
  {
   "cell_type": "code",
   "execution_count": null,
   "metadata": {},
   "outputs": [],
   "source": [
    "# Construction de la chaine (pipeline)\n",
    "from sklearn.model_selection import GridSearchCV\n",
    "from sklearn.model_selection import ParameterGrid\n",
    "\n",
    "# V1 : test en vrac (~20 secondes sur mon ordinateur portable)\n",
    "\n",
    "# v2 : test raisonnable (~3.5 secondes sur mon ordinateur portable)\n",
    "\n",
    "### MISE EN PLACE DE LA CHAINE ###\n",
    "classif = svm.SVC()\n",
    "# liste de tuples: titre + objet \n",
    "pipe = Pipeline([('selvar',selector),('classif',classif)])\n",
    "\n",
    "# paramètres en vrac: TITRE__para: [valeurs à tester]\n",
    "# V1\n",
    "grid = {\n",
    "    \"selvar__n_features_to_select\": [2, 3, 4, 5],\n",
    "    \"classif__C\": [0.1,1,5,10,100],\n",
    "    \"classif__gamma\": [0.1, 0.5, 1, 2, 5],\n",
    "    \"classif__kernel\": [\"linear\",\"rbf\"],\n",
    "}\n",
    "#V2 avec sous-dictionnaire\n",
    "grid = [\n",
    "    {\"selvar__n_features_to_select\": [2, 3, 4, 5]},\n",
    "    {\"classif__C\": [0.1,1,5,10,100]},\n",
    "    {\"classif__kernel\": [\"linear\"]},\n",
    "    {\"classif__gamma\": [0.1, 0.5, 1, 2, 5],\n",
    "    \"classif__kernel\": [\"rbf\"]}\n",
    "]\n",
    "# param_grid = list(ParameterGrid(grid))\n",
    "# print(list(ParameterGrid(grid)))\n",
    "\n",
    "search = GridSearchCV(pipe, grid, n_jobs=2)\n",
    "search.fit(X_train, y_train)\n",
    "print(\"Best parameter (CV score=%0.3f):\" % search.best_score_)\n",
    "print(search.best_params_)\n"
   ]
  },
  {
   "cell_type": "markdown",
   "metadata": {},
   "source": [
    "## C.4. Exercice\n",
    "\n",
    "Mêmes opérations que précédemment, mais:\n",
    "\n",
    "* Sur les données de qualité du vin\n",
    "* avec une normalisation standard\n",
    "* une random forest ou un XGBoost dont on fera varier le nombre et la profondeur des arbres\n"
   ]
  },
  {
   "cell_type": "code",
   "execution_count": null,
   "metadata": {},
   "outputs": [],
   "source": [
    "filename = \"data/winequality-red.csv\"\n",
    "data = pd.read_csv(filename)\n",
    "X = data.values[:,:-1]\n",
    "Y = data.values[:,-1]\n",
    "# remise en forme des Y entre 0 et nClasses\n",
    "val = np.unique(Y)\n",
    "transf = dict(zip(val,np.arange(len(val)))) # mapping [x,y,z] => [0,1,2]\n",
    "y = np.vectorize(transf.get)(Y)             # application de la transformation\n"
   ]
  },
  {
   "cell_type": "code",
   "execution_count": null,
   "metadata": {},
   "outputs": [],
   "source": [
    "# TODO"
   ]
  },
  {
   "cell_type": "markdown",
   "metadata": {},
   "source": [
    "## C.5. Chaine de traitement et enrichissement des données\n",
    "\n",
    "Mêmes opérations que précédemment, mais en ajoutant des dimensions.\n",
    "\n",
    "La difficulté est de trouver l'objet scikit-learn qui permet d'insérer des colonnes dans les données\n",
    "\n",
    "* La chaine transformera les variables en catégories (one-hot) \n",
    "* Appliquera une régression logistique\n",
    "\n",
    "Le but est ensuite de chercher à optimiser une chaine de traitement contenant de l'enrichissement de données (par exemple, tester différentes valeurs pour la discrétisation)\n",
    "\n"
   ]
  },
  {
   "cell_type": "code",
   "execution_count": null,
   "metadata": {},
   "outputs": [],
   "source": [
    "from sklearn.compose import ColumnTransformer\n",
    "from sklearn.linear_model import LogisticRegression\n",
    "from sklearn.pipeline import make_pipeline\n",
    "\n",
    "features_id = [3]\n",
    "scale_id = [1,2]\n",
    "\n",
    "preprocessor = ColumnTransformer(\n",
    "    [\n",
    "        (\"untouched\", StandardScaler(), scale_id ), # np.setdiff1d(np.arange(X.shape[1]), features_id)),\n",
    "        (\n",
    "            \"tobin\",\n",
    "            KBinsDiscretizer(n_bins=10, encode='onehot', strategy='uniform'),\n",
    "            features_id,\n",
    "        ),\n",
    "    ],\n",
    ")\n",
    "\n",
    "#print(np.setdiff1d(np.arange(X.shape[1]), features_id))\n",
    "# print(preprocessor.fit_transform(X).toarray())\n",
    "print(X.shape)\n",
    "\n",
    "log_reg = make_pipeline(preprocessor, LogisticRegression())\n",
    "log_reg.fit(X, y)"
   ]
  },
  {
   "cell_type": "code",
   "execution_count": null,
   "metadata": {},
   "outputs": [],
   "source": [
    "from sklearn.compose import ColumnTransformer\n",
    "from sklearn.preprocessing import OneHotEncoder, StandardScaler\n",
    "from sklearn.pipeline import make_pipeline\n",
    "from sklearn.impute import SimpleImputer\n",
    "from sklearn.feature_selection import SelectKBest\n",
    "from sklearn.datasets import fetch_openml\n",
    "from sklearn.linear_model import LogisticRegression\n",
    "\n",
    "X, y = fetch_openml(\"titanic\", version=1, as_frame=True, return_X_y=True)\n",
    "numeric_features = [\"age\", \"fare\"]\n",
    "numeric_transformer = make_pipeline(SimpleImputer(strategy=\"median\"), StandardScaler())\n",
    "categorical_features = [\"embarked\", \"pclass\"]\n",
    "\n",
    "preprocessor = ColumnTransformer(\n",
    "    [\n",
    "        (\"num\", numeric_transformer, numeric_features),\n",
    "        (\n",
    "            \"cat\",\n",
    "            OneHotEncoder(handle_unknown=\"ignore\", sparse=False),\n",
    "            categorical_features,\n",
    "        ),\n",
    "    ],\n",
    "    verbose_feature_names_out=False,\n",
    ")\n",
    "log_reg = make_pipeline(preprocessor, SelectKBest(k=7), LogisticRegression())\n",
    "#log_reg.fit(X, y)\n",
    "\n",
    "sc = cross_val_score(log_reg, X, y)\n",
    "print(sc)"
   ]
  },
  {
   "cell_type": "markdown",
   "metadata": {},
   "source": [
    "# Construction du sujet à partir de la correction"
   ]
  },
  {
   "cell_type": "code",
   "execution_count": 1,
   "metadata": {},
   "outputs": [],
   "source": [
    "###  TODO )\",\" TODO \",\\\n",
    "    txt, flags=re.DOTALL))\n",
    "f2.close()\n",
    "\n",
    "### </CORRECTION> ###"
   ]
  },
  {
   "cell_type": "code",
   "execution_count": null,
   "metadata": {},
   "outputs": [],
   "source": []
  }
 ],
 "metadata": {
  "kernelspec": {
   "display_name": "Python 3.9.7 ('base')",
   "language": "python",
   "name": "python3"
  },
  "language_info": {
   "codemirror_mode": {
    "name": "ipython",
    "version": 3
   },
   "file_extension": ".py",
   "mimetype": "text/x-python",
   "name": "python",
   "nbconvert_exporter": "python",
   "pygments_lexer": "ipython3",
   "version": "3.10.13"
  },
  "orig_nbformat": 4,
  "vscode": {
   "interpreter": {
    "hash": "902a52bcf4503a473db011f1937bdfe17613b08622219712e0110e48c4958c23"
   }
  }
 },
 "nbformat": 4,
 "nbformat_minor": 2
}
