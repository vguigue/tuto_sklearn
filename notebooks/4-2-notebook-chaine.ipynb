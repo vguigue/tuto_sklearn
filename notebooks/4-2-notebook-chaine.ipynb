{
 "cells": [
  {
   "cell_type": "markdown",
   "id": "2b336650",
   "metadata": {},
   "source": [
    "# B. Etude approfondie du cas Auto-mpg\n",
    "\n",
    "Effectuer le même genre d'opération sur le jeu de données UCI Auto MPG, consistant à prédire la consommation (MPG) d'un ensemble de voitures.\n",
    "\n",
    "https://archive.ics.uci.edu/ml/datasets/auto+mpg\n",
    "\n",
    "1. Tester un régresseur de base sur le sous-ensemble de colonnes correspondant à des données numériques \n",
    "2. Encoder les colonnes catégorielles et comparer la performance\n",
    "3. Que penser des colonnes de date et de cylindrée?\n",
    "    * Tester leur prise en compte numérique *vs* leur prise en compte catégorielle\n",
    "4. La dernière colonne est séparable en plusieurs (marque, modèle)\n",
    "    * Quel impact sur les performances\n",
    "5. Imaginer d'autres manières de prendre en compte les valeurs manquantes\n",
    "\n"
   ]
  },
  {
   "cell_type": "code",
   "execution_count": null,
   "id": "69b0001f",
   "metadata": {},
   "outputs": [],
   "source": [
    "import pandas as pd\n",
    "import numpy as np\n",
    "import matplotlib.pyplot as plt"
   ]
  },
  {
   "cell_type": "code",
   "execution_count": null,
   "id": "3f761bc7",
   "metadata": {},
   "outputs": [],
   "source": [
    "# Chargement des données (1/2)\n",
    "\n",
    "filename = \"data/auto-mpg.csv\"\n",
    "data = pd.read_csv(filename)\n",
    "X = data.values[:,1:]\n",
    "Y = data.values[:,0]\n",
    "\n",
    "# la colonne 2 contient des données manquantes (?)... Et elle est encodée en chaine de caractères...\n",
    "data.loc[30:40, :] # equiv. dans pandas de: print(X[30:40])\n",
    "\n",
    "# alternative : data.head(50)"
   ]
  },
  {
   "cell_type": "markdown",
   "id": "2118b341",
   "metadata": {},
   "source": [
    "## B.1. La gestion des données manquantes\n",
    "\n",
    "De nombreux jeux de données présentent des données manquantes, souvent dans une ou deux colonnes et sur quelques lignes. La question de savoir comment traiter ce cas de figure occupe beaucoup la communauté.\n",
    "\n",
    "1. Du point de vue théorique, ça relève de l'algorithme EM pour l'estimation de valeur manquante\n",
    "2. Du point de vue très opérationnel, on peut:\n",
    "    * supprimer les lignes affectées\n",
    "    * affecter la valeur moyenne de la colonne aux cases manquantes (cf case ci-dessous)\n",
    "3. D'autres stratégies assez simples sont disponibles dans sk-learn\n",
    "\n",
    "**1er problème opérationnel:** la colonne contenant des données manquantes est transformée en chaine de caractères car certaines valeurs valent `'?'`\n"
   ]
  },
  {
   "cell_type": "code",
   "execution_count": null,
   "id": "6044194f",
   "metadata": {},
   "outputs": [],
   "source": [
    "# Chargement des données (2/2)\n",
    "\n",
    "# On propose de les remplacer par la valeur moyenne de la colonne [A LA MAIN]\n",
    "# 1. On remplace par des 0\n",
    "X[:,2] = [0 if X[i,2] == '?' else int(X[i,2]) for i in range (len(X))]\n",
    "# 2. On remplace par la moyenne\n",
    "m = np.round(X[:,2].sum()/np.where(X[:,2]>0, 1, 0).sum()) # 104\n",
    "X[:,2] = np.where(X[:,2]==0, m, X[:,2])\n",
    "\n",
    "print(X[30:40])"
   ]
  },
  {
   "cell_type": "code",
   "execution_count": null,
   "id": "ea8be647",
   "metadata": {},
   "outputs": [],
   "source": [
    "# Chargemnet des données (3/3)\n",
    "# la méthode ci-dessus est fonctionnelle mais pas évidente à coder: il est possible d'obtenir la même chose avec une petite option de pandas\n",
    "\n",
    "filename = \"data/auto-mpg.csv\"\n",
    "data = pd.read_csv(filename, na_values = '?') # => transformer les valeurs manquantes en NaN\n",
    "                                              # toutes les colonnes seront numériques\n",
    "X = data.values[:,1:]\n",
    "Y = data.values[:,0]\n",
    "\n",
    "print(X[30:40]) # avec valeur manquante"
   ]
  },
  {
   "cell_type": "markdown",
   "id": "b64d70ce",
   "metadata": {},
   "source": [
    "Stratégies alternatives **à maitriser** :\n",
    "\n",
    "https://scikit-learn.org/stable/modules/classes.html#module-sklearn.impute\n",
    "\n",
    "Le réglage de la boite ci-dessous est à `mean`... N'hésitez pas à comparer avec d'autres réglages!"
   ]
  },
  {
   "cell_type": "code",
   "execution_count": null,
   "id": "8013bd1c",
   "metadata": {},
   "outputs": [],
   "source": [
    "# application directe de la fonction:\n",
    "\n",
    "from sklearn.impute import SimpleImputer\n",
    "\n",
    "imp_mean = SimpleImputer(missing_values=np.nan, strategy='mean') # attention, fonction par robuste aux str\n",
    "Xfill = imp_mean.fit_transform(X[:,2:3]) # traitemnet de la colonne 2\n",
    "X[:,2:3] = Xfill\n",
    "\n",
    "print(X[30:40])\n",
    "# que se passe-t-il?"
   ]
  },
  {
   "cell_type": "markdown",
   "id": "80da51bc",
   "metadata": {},
   "source": [
    "## B.2. Analyse du contenu \n",
    "\n",
    "Nous nous intéressons d'abord à la dernière colonne qui est problématique (car non numérique)... Puis à toutes les autres colonnes"
   ]
  },
  {
   "cell_type": "code",
   "execution_count": null,
   "id": "661ebc2b",
   "metadata": {},
   "outputs": [],
   "source": [
    "# analyse de la dernière colonne (chaine de caractères):\n",
    "print(\"Combien de valeurs uniques:\", len(np.unique(X[:,-1])), \"(nb val=\",len(X),\")\")\n",
    "\n",
    "print(X[:5,-1]) # affichage de 5 valeurs"
   ]
  },
  {
   "cell_type": "code",
   "execution_count": null,
   "id": "9c013e03",
   "metadata": {},
   "outputs": [],
   "source": [
    "#Il faut sans doute se limiter à la marque:\n",
    "# remplacer le nom complet du modèle par la marque seule (cette information peut avoir de la valeur pour estimer la consommation)\n",
    "\n",
    "###  TODO  ###\n",
    "\n",
    "print(X[:5,-1]) # affichage de 5 valeurs (corrigées avec juste la marque)"
   ]
  },
  {
   "cell_type": "markdown",
   "id": "7b83e990",
   "metadata": {},
   "source": [
    "### Visualisation des données + target encoding\n",
    "\n",
    "L'outil premier pour prendre en main les données est l'histogramme: dans l'exemple ci-dessous, on trace les histogrammes de répartition des données (en bleu).\n",
    "\n",
    "On ajoute une seconde information: la valeur moyenne de la cible pour chaque barre de l'histogramme (ça ressemble beaucoup à du *target encoding*). Idée: on essaie de voir si les valeurs de la cibles *bougent* par rapport aux catégories de l'histogramme."
   ]
  },
  {
   "cell_type": "code",
   "execution_count": null,
   "id": "312be396",
   "metadata": {},
   "outputs": [],
   "source": [
    "\n",
    "# Analyse des colonnes (histogramme)\n",
    "plt.figure(figsize=[5*X.shape[1],5])\n",
    "for i in range(X.shape[1]):\n",
    "    plt.subplot(1,X.shape[1],i+1)\n",
    "    # plt.figure()\n",
    "    if i<X.shape[1]-1: # colonne numériques\n",
    "        nbins = np.minimum(len(np.unique(X[:,i])), 12) # extraction des colonnes à valeurs discrètes\n",
    "        [e,x] = np.histogram(X[:,i], nbins)\n",
    "        x[-1] += 0.001\n",
    "        conso = [Y[np.logical_and(X[:,i]>=x[j], X[:,i]<x[j+1])].mean() for j in range(len(e))]\n",
    "        # print(e,x)\n",
    "        plt.bar(np.arange(len(e)),e)\n",
    "        plt.bar(np.arange(len(e)),conso, alpha=0.5)\n",
    "        plt.title('Colonne '+str(i))\n",
    "    else: # colonnes textuelles\n",
    "        val,e = np.unique(X[:,-1], return_counts=True)\n",
    "        plt.bar(np.arange(len(e)),e)\n",
    "        conso = [Y[X[:,-1] == v].mean() for v in val]\n",
    "        plt.bar(np.arange(len(e)),conso, alpha=0.5)\n",
    "        plt.title('Colonne '+str(i))\n",
    "\n",
    "#plt.savefig('fig/auto-mpg-all.png')\n",
    "plt.show()\n"
   ]
  },
  {
   "cell_type": "markdown",
   "id": "4c3bce6e",
   "metadata": {},
   "source": [
    "## B.3. Performances de base puis enrichissement des données\n",
    "\n",
    "On calcule d'abord une performance sur les données numériques faciles à exploiter... Puis on va enrichir la représentation"
   ]
  },
  {
   "cell_type": "code",
   "execution_count": null,
   "id": "9795c06b",
   "metadata": {},
   "outputs": [],
   "source": [
    "from sklearn.linear_model import Ridge\n",
    "from sklearn.model_selection import cross_val_score\n",
    "from sklearn.metrics import mean_squared_error, make_scorer\n",
    "from sklearn.preprocessing import OneHotEncoder\n",
    "\n",
    "\n",
    "# Construction d'un modèle de référence sur les colonnes numériques\n",
    "Xr = X[:,1:6]\n",
    "mod = Ridge()\n",
    "\n",
    "sc = cross_val_score( mod, Xr, Y, scoring='neg_mean_absolute_percentage_error')\n",
    "\n",
    "print(\"modèle de référence : \",sc, sc.mean())\n",
    "print(\" dimension des données: \", Xr.shape)"
   ]
  },
  {
   "cell_type": "markdown",
   "id": "bc762f09",
   "metadata": {},
   "source": [
    "Objectif de la boite ci-dessous: arriver dans les 12% d'erreur"
   ]
  },
  {
   "cell_type": "code",
   "execution_count": null,
   "id": "447586f5",
   "metadata": {},
   "outputs": [],
   "source": [
    "# Transfromation des données et Amélioration (?) des résultats\n",
    "\n",
    "enc = OneHotEncoder(handle_unknown='ignore', sparse_output=False) # aller voir la document (ou ex plus haut)\n",
    "\n",
    "for col  in [0,5,6,7]: # pour chacune de ces colonnes discrètes, \n",
    "    # Construire la matrice Xtmp one-hot des occurences de variables discrètes\n",
    "    # Concaténer Xtmp avec Xr\n",
    "    # Calculer les performances du modèle à chaque itération\n",
    "    ###  TODO  ###\n"
   ]
  },
  {
   "cell_type": "markdown",
   "id": "c4997840",
   "metadata": {},
   "source": [
    "\n",
    "## B.4. Histogramme de valeurs\n",
    "\n",
    "Il est parfois intéressant de convertir une variable continue en un histogramme de valeurs. Sur la colonne 1 des données, on avait l'impression qu'il y avait des comportements un peu similaire par groupe de valeurs... On a donc ajouté des catégories.\n",
    "\n",
    "Objectif de la boite ci-dessous: arriver dans les 11% d'erreur"
   ]
  },
  {
   "cell_type": "code",
   "execution_count": null,
   "id": "a5ffbc21",
   "metadata": {},
   "outputs": [],
   "source": [
    "# Transformation de la caractéristique 5 (Année)\n",
    "from sklearn.preprocessing import KBinsDiscretizer\n",
    "\n",
    "dim = 1 # dimension à encoder\n",
    "#print(X[:10,dim])\n",
    "enc = KBinsDiscretizer(n_bins=4, encode='onehot', strategy='uniform') # comprendre la signification des arguments\n",
    "Xtmp = enc.fit_transform(X[:,dim].reshape(-1,1)).toarray()\n",
    "#print(Xtmp[:10,:])\n",
    "Xr = np.concatenate((Xr, Xtmp), axis = 1)\n",
    "sc = cross_val_score( mod, Xr, Y, scoring='neg_mean_absolute_percentage_error')\n",
    "print(Xtmp.shape)\n",
    "print(\"modèle de référence : \",sc, sc.mean())\n"
   ]
  },
  {
   "cell_type": "markdown",
   "id": "20799cd1",
   "metadata": {},
   "source": [
    "## B.5. Transformations arbitraires\n",
    "\n",
    "Enrichir les données construisant une colonne binaire qui vaut 1 pour les voitures de 4 cylindres de moins de 2500 en masse"
   ]
  },
  {
   "cell_type": "code",
   "execution_count": null,
   "id": "d5cb01b2",
   "metadata": {},
   "outputs": [],
   "source": [
    "# créer une colonne biaire qui recense les petites voitures (masse<2500) de 4 cylindres (=1 vs 0 partout ailleurs)\n",
    "\n",
    "Xtmp = np.where(np.logical_and(X[:,0]==4, X[:,4]<2500), 1, 0).reshape(-1,1)\n",
    "Xr = np.concatenate((Xr, Xtmp), axis = 1)\n",
    "sc = cross_val_score( mod, Xr, Y, scoring='neg_mean_absolute_percentage_error')\n",
    "print(Xtmp.shape)\n",
    "print(\"modèle de référence : \",sc, sc.mean())"
   ]
  },
  {
   "cell_type": "markdown",
   "id": "7659aed8",
   "metadata": {},
   "source": [
    "\n",
    "## B.6. Passage à un modèle de l'état de l'art\n",
    "\n",
    "Est ce que les variables construites ont du sens pour un modèle non-linéaire de type XGBoost/catboost?\n"
   ]
  },
  {
   "cell_type": "code",
   "execution_count": null,
   "id": "4422dbb3",
   "metadata": {},
   "outputs": [],
   "source": [
    "# Passage à un modèle de l'état de l'art\n",
    "\n",
    "# catboost\n",
    "\n",
    "import catboost as cgb # !pip install xgboost # en cas de besoin\n",
    "\n",
    "bst = cgb.CatBoostRegressor()\n",
    "sc = cross_val_score( bst, Xr, Y, scoring='neg_mean_absolute_percentage_error')\n",
    "print(\"catboost : \",sc, sc.mean())\n",
    "\n",
    "sc = cross_val_score( bst, X[:,:6], Y, scoring='neg_mean_absolute_percentage_error')\n",
    "print(\"catboost (X origine): \",sc, sc.mean())"
   ]
  },
  {
   "cell_type": "code",
   "execution_count": null,
   "id": "9e35bcc7",
   "metadata": {},
   "outputs": [],
   "source": [
    "# !pip install catboost "
   ]
  },
  {
   "cell_type": "markdown",
   "id": "7560b64a",
   "metadata": {},
   "source": [
    "# Construction du sujet à partir de la correction"
   ]
  },
  {
   "cell_type": "code",
   "execution_count": 1,
   "id": "716cf49a",
   "metadata": {},
   "outputs": [],
   "source": [
    "###  TODO )\",\" TODO \",\\\n",
    "    txt, flags=re.DOTALL))\n",
    "f2.close()\n",
    "\n",
    "### </CORRECTION> ###"
   ]
  },
  {
   "cell_type": "code",
   "execution_count": null,
   "id": "97660449",
   "metadata": {},
   "outputs": [],
   "source": []
  }
 ],
 "metadata": {
  "kernelspec": {
   "display_name": "pyth-torch-numpy",
   "language": "python",
   "name": "python3"
  },
  "language_info": {
   "codemirror_mode": {
    "name": "ipython",
    "version": 3
   },
   "file_extension": ".py",
   "mimetype": "text/x-python",
   "name": "python",
   "nbconvert_exporter": "python",
   "pygments_lexer": "ipython3",
   "version": "3.11.10"
  }
 },
 "nbformat": 4,
 "nbformat_minor": 5
}
